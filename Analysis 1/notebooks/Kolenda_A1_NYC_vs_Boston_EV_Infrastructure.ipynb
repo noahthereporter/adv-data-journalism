{
 "cells": [
  {
   "cell_type": "code",
   "execution_count": null,
   "id": "075c0837-f721-4f47-bf86-bdf1828eeb4a",
   "metadata": {},
   "outputs": [],
   "source": [
    "#Setting up the notebook.\n",
    "import pandas as pd\n",
    "# I'm working with some data sets with a lot of columns, so I added this command to reveal all of them.\n",
    "pd.set_option('display.max_columns', None)"
   ]
  },
  {
   "cell_type": "code",
   "execution_count": null,
   "id": "e69ea433-21ca-41f6-ba9e-df2d21739ca4",
   "metadata": {},
   "outputs": [],
   "source": [
    "#Here I imported the data and assigned it names.\n",
    "nyc_chargers = pd.read_csv('../data/NYC EV chargers.csv')\n",
    "nyc_cars = pd.read_csv('../data/NY Vehicle registrations.csv')\n",
    "boston_chargers = pd.read_csv('../data/Boston Electric_Vehicle_Charging_Stations.csv')\n",
    "boston_cars = pd.read_csv('../data/Boston_Bi_Annual.csv')"
   ]
  },
  {
   "cell_type": "code",
   "execution_count": null,
   "id": "e80b862a-7a1f-4d8e-89e0-8b7b030a9c05",
   "metadata": {},
   "outputs": [],
   "source": [
    "#Here I am checking for the formatting for the columns just to ensure I'm writing the next line peroperly.\n",
    "nyc_cars.head()"
   ]
  },
  {
   "cell_type": "code",
   "execution_count": null,
   "id": "e188f0af-d5ca-4747-b43c-05831238d06d",
   "metadata": {},
   "outputs": [],
   "source": [
    "#This line is the first filtering the New York State Vehicle Registration data.\n",
    "nyc_evs = nyc_cars[\n",
    "    #This line filtered out other vehicle types like boats and snow mobiles.\n",
    "    (nyc_cars['Record Type'] == 'VEH') &\n",
    "    #This filtered the vehicles down to passenger vehicles, vutting out things like semis, box trucks, etc.\n",
    "    (nyc_cars['Registration Class'] == 'PAS') &\n",
    "    #This line filtered the entries by county of vehicle use to to NYC. \n",
    "    (nyc_cars['County'].isin(['NEW YORK', 'KINGS', 'QUEENS', 'BRONX', 'RICHMOND'])) &\n",
    "    #This line filtered the registrations by battery eletric.\n",
    "    (nyc_cars['Fuel Type'] == 'ELECTRIC')\n",
    "]"
   ]
  },
  {
   "cell_type": "code",
   "execution_count": null,
   "id": "01af54eb-e46e-42d2-a0a5-219bef804d55",
   "metadata": {},
   "outputs": [],
   "source": [
    "nyc_evs.to_csv('../output/NYC EVs.csv')"
   ]
  },
  {
   "cell_type": "code",
   "execution_count": null,
   "id": "0a4e848d-e0f5-41ec-b650-970a1b57c657",
   "metadata": {},
   "outputs": [],
   "source": [
    "#This was checking the filtering.\n",
    "len(nyc_evs)"
   ]
  },
  {
   "cell_type": "code",
   "execution_count": null,
   "id": "7e881299-f48f-4c50-af50-0f6cf241c040",
   "metadata": {},
   "outputs": [],
   "source": [
    "#Here I was creating a total number of EVs to be used later for figuring out cars per plug.\n",
    "total_nyc_evs = len(nyc_evs)"
   ]
  },
  {
   "cell_type": "code",
   "execution_count": null,
   "id": "134be0cf-33ec-4db3-b158-e98f50fab75c",
   "metadata": {},
   "outputs": [],
   "source": [
    "#Here I wanted to confirm the charger name\n",
    "nyc_chargers['TYPE OF CHARGER'].unique()"
   ]
  },
  {
   "cell_type": "code",
   "execution_count": null,
   "id": "ed1669c7-bed0-4c2b-b4a2-dd30ea614c98",
   "metadata": {},
   "outputs": [],
   "source": [
    "#Here I filtered the chargers down to the ones avaliable to the public.\n",
    "nyc_public_chargers = nyc_chargers[(nyc_chargers['TYPE OF CHARGER'] == 'L2 DOT Flo Curbside Charger')].copy()"
   ]
  },
  {
   "cell_type": "code",
   "execution_count": null,
   "id": "70120fe5-115c-4287-ab0a-422ce6a05d63",
   "metadata": {},
   "outputs": [],
   "source": [
    "nyc_public_chargers.to_csv('../output/NYC Public Chargers.csv', index=False)"
   ]
  },
  {
   "cell_type": "code",
   "execution_count": null,
   "id": "3d56c766-0572-40ad-9c4b-b56efd5dafb7",
   "metadata": {},
   "outputs": [],
   "source": [
    "#Here I created a total of chargers by filtering the data set down to those only avaliable to the public.\n",
    "nyc_public_chargers_total_plugs = nyc_public_chargers['NO. OF PLUGS'].sum()"
   ]
  },
  {
   "cell_type": "code",
   "execution_count": null,
   "id": "ce8189ce-6879-4dc4-8a9c-767d6acf9d19",
   "metadata": {},
   "outputs": [],
   "source": [
    "#This step had me filtering down the Massachusetts Motor Vehicle Census to determine how many EVs were on roads as of 7/1/24\n",
    "boston_evs = boston_cars[\n",
    "    #This condition filtered the data down to the most recent check.\n",
    "    (boston_cars['Date'] == '2024-07-01') &\n",
    "    #This condition filtered the location down to Boston specifically.\n",
    "    (boston_cars['Municipality'] == 'BOSTON') &\n",
    "    #This condition limited the type of vehicle down to passenger cars.\n",
    "    (boston_cars['VehicleUse'] == 'Passenger') &\n",
    "    #This condition set the type to electric vehicle.\n",
    "    (boston_cars['AdvancedVehicleType'] == 'Electric Vehicle')\n",
    "]"
   ]
  },
  {
   "cell_type": "code",
   "execution_count": null,
   "id": "d7c9762e-c15c-42c0-b817-a152d55f3933",
   "metadata": {},
   "outputs": [],
   "source": [
    "boston_evs.to_csv('../output/Boston EV Count.csv')"
   ]
  },
  {
   "cell_type": "code",
   "execution_count": null,
   "id": "d60d8443-51d1-4042-8472-f68ff99d4d67",
   "metadata": {},
   "outputs": [],
   "source": [
    "#Because the MVC works differently than the NYC registration data, I had to sum the vehicle counts from that to be able to get the number of EVs registered in the region.\n",
    "total_boston_evs = boston_evs['Count'].sum()"
   ]
  },
  {
   "cell_type": "code",
   "execution_count": null,
   "id": "0803591f-cddc-420c-92f8-b29de93e0378",
   "metadata": {},
   "outputs": [],
   "source": [
    "#Here I filtered down the chargers in Boston from the dataset to fit the same requirements as the NYC data set.\n",
    "boston_public_chargers = boston_chargers[\n",
    "    #This condition had me filtering down to the chargers provided by the state, local and federal government in the area.\n",
    "    (boston_chargers['owner_type_code'].isin(['LG', 'SG', 'FG'])) &\n",
    "    #This condition limited the area to Boston.\n",
    "    (boston_chargers['city'] == 'Boston')\n",
    "].copy()"
   ]
  },
  {
   "cell_type": "code",
   "execution_count": null,
   "id": "aa71885e-ab71-4fb3-9687-9094ba23f357",
   "metadata": {},
   "outputs": [],
   "source": [
    "boston_public_chargers.to_csv('../output/Boston Public Chargers.csv')"
   ]
  },
  {
   "cell_type": "code",
   "execution_count": null,
   "id": "814b54ae-c959-4496-aab3-c84913d0e888",
   "metadata": {},
   "outputs": [],
   "source": [
    "#This is establishing the number of vehicles to chargers for NYC by dividing the cars by the chargers.\n",
    "nyc_vehicles_per_charger = total_nyc_evs / nyc_public_chargers_total_plugs"
   ]
  },
  {
   "cell_type": "code",
   "execution_count": null,
   "id": "d4ebfa6d-f506-41f8-9087-424df7d70e3f",
   "metadata": {},
   "outputs": [],
   "source": [
    "#print(boston_vehicles_per_charger)\n",
    "print(nyc_vehicles_per_charger)"
   ]
  },
  {
   "cell_type": "code",
   "execution_count": null,
   "id": "2fb6ee8e-cd6e-4eaf-b74c-e47ea943ebd7",
   "metadata": {},
   "outputs": [],
   "source": [
    "#This is establishing the number of vehicles to chargers for Boston by dividing the cars by the chargers.\n",
    "#(I had to just hand count them, something broke in the code when I tried to sum them that way and I wanted to make deadline!)\n",
    "boston_vehicles_per_charger = total_boston_evs / 20"
   ]
  },
  {
   "cell_type": "code",
   "execution_count": null,
   "id": "cb3b9001-03ed-4f12-b0a1-167a2961ccc6",
   "metadata": {},
   "outputs": [],
   "source": [
    "#This is showing off the ratio for Boston.\n",
    "print(boston_vehicles_per_charger)"
   ]
  },
  {
   "cell_type": "code",
   "execution_count": null,
   "id": "dbf5a03b-8ec2-49e2-ba6d-93b8820df45d",
   "metadata": {},
   "outputs": [],
   "source": [
    "print(total_boston_evs)"
   ]
  },
  {
   "cell_type": "code",
   "execution_count": null,
   "id": "29be25bd-0eda-41c1-8fe0-20bde7c20463",
   "metadata": {},
   "outputs": [],
   "source": []
  }
 ],
 "metadata": {
  "kernelspec": {
   "display_name": "Python 3 (ipykernel)",
   "language": "python",
   "name": "python3"
  },
  "language_info": {
   "codemirror_mode": {
    "name": "ipython",
    "version": 3
   },
   "file_extension": ".py",
   "mimetype": "text/x-python",
   "name": "python",
   "nbconvert_exporter": "python",
   "pygments_lexer": "ipython3",
   "version": "3.8.18"
  }
 },
 "nbformat": 4,
 "nbformat_minor": 5
}
