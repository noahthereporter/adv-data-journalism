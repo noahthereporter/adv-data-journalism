{
 "cells": [
  {
   "cell_type": "code",
   "execution_count": 3,
   "id": "075c0837-f721-4f47-bf86-bdf1828eeb4a",
   "metadata": {},
   "outputs": [],
   "source": [
    "#Setting up the notebook.\n",
    "import pandas as pd\n",
    "# I'm working with some data sets with a lot of columns, so I added this command to reveal all of them.\n",
    "pd.set_option('display.max_columns', None)"
   ]
  },
  {
   "cell_type": "code",
   "execution_count": 4,
   "id": "e69ea433-21ca-41f6-ba9e-df2d21739ca4",
   "metadata": {},
   "outputs": [],
   "source": [
    "#Here I imported the data and assigned it names.\n",
    "nyc_chargers = pd.read_csv('../data/NYC EV chargers.csv')\n",
    "nyc_cars = pd.read_csv('../data/NY Vehicle registrations.csv')\n",
    "boston_chargers = pd.read_csv('../data/Boston Electric_Vehicle_Charging_Stations.csv')\n",
    "boston_cars = pd.read_csv('../data/Boston_Bi_Annual.csv')"
   ]
  },
  {
   "cell_type": "code",
   "execution_count": 5,
   "id": "e80b862a-7a1f-4d8e-89e0-8b7b030a9c05",
   "metadata": {},
   "outputs": [
    {
     "data": {
      "text/html": [
       "<div>\n",
       "<style scoped>\n",
       "    .dataframe tbody tr th:only-of-type {\n",
       "        vertical-align: middle;\n",
       "    }\n",
       "\n",
       "    .dataframe tbody tr th {\n",
       "        vertical-align: top;\n",
       "    }\n",
       "\n",
       "    .dataframe thead th {\n",
       "        text-align: right;\n",
       "    }\n",
       "</style>\n",
       "<table border=\"1\" class=\"dataframe\">\n",
       "  <thead>\n",
       "    <tr style=\"text-align: right;\">\n",
       "      <th></th>\n",
       "      <th>Record Type</th>\n",
       "      <th>VIN</th>\n",
       "      <th>Registration Class</th>\n",
       "      <th>City</th>\n",
       "      <th>State</th>\n",
       "      <th>Zip</th>\n",
       "      <th>County</th>\n",
       "      <th>Model Year</th>\n",
       "      <th>Make</th>\n",
       "      <th>Body Type</th>\n",
       "      <th>Fuel Type</th>\n",
       "      <th>Unladen Weight</th>\n",
       "      <th>Maximum Gross Weight</th>\n",
       "      <th>Passengers</th>\n",
       "      <th>Reg Valid Date</th>\n",
       "      <th>Reg Expiration Date</th>\n",
       "      <th>Color</th>\n",
       "      <th>Scofflaw Indicator</th>\n",
       "      <th>Suspension Indicator</th>\n",
       "      <th>Revocation Indicator</th>\n",
       "    </tr>\n",
       "  </thead>\n",
       "  <tbody>\n",
       "    <tr>\n",
       "      <th>0</th>\n",
       "      <td>BOAT</td>\n",
       "      <td>999999999999</td>\n",
       "      <td>BOT</td>\n",
       "      <td>HILTON</td>\n",
       "      <td>NY</td>\n",
       "      <td>14468</td>\n",
       "      <td>MONROE</td>\n",
       "      <td>1975.0</td>\n",
       "      <td>STARC</td>\n",
       "      <td>BOAT</td>\n",
       "      <td>GAS</td>\n",
       "      <td>NaN</td>\n",
       "      <td>NaN</td>\n",
       "      <td>NaN</td>\n",
       "      <td>08/24/2022</td>\n",
       "      <td>07/31/2025</td>\n",
       "      <td>NaN</td>\n",
       "      <td>N</td>\n",
       "      <td>N</td>\n",
       "      <td>N</td>\n",
       "    </tr>\n",
       "    <tr>\n",
       "      <th>1</th>\n",
       "      <td>VEH</td>\n",
       "      <td>9999236</td>\n",
       "      <td>HIS</td>\n",
       "      <td>ROSLYN</td>\n",
       "      <td>NY</td>\n",
       "      <td>11576</td>\n",
       "      <td>NASSAU</td>\n",
       "      <td>1937.0</td>\n",
       "      <td>CHRY</td>\n",
       "      <td>4DSD</td>\n",
       "      <td>GAS</td>\n",
       "      <td>6300.0</td>\n",
       "      <td>NaN</td>\n",
       "      <td>NaN</td>\n",
       "      <td>05/07/2024</td>\n",
       "      <td>06/23/2025</td>\n",
       "      <td>BK</td>\n",
       "      <td>N</td>\n",
       "      <td>N</td>\n",
       "      <td>N</td>\n",
       "    </tr>\n",
       "    <tr>\n",
       "      <th>2</th>\n",
       "      <td>TRL</td>\n",
       "      <td>9999</td>\n",
       "      <td>LTR</td>\n",
       "      <td>BETHEL PARK</td>\n",
       "      <td>PA</td>\n",
       "      <td>15102</td>\n",
       "      <td>OUT-OF-STATE</td>\n",
       "      <td>1980.0</td>\n",
       "      <td>CRCF</td>\n",
       "      <td>LTRL</td>\n",
       "      <td>NONE</td>\n",
       "      <td>NaN</td>\n",
       "      <td>3000.0</td>\n",
       "      <td>NaN</td>\n",
       "      <td>11/15/2023</td>\n",
       "      <td>12/31/2024</td>\n",
       "      <td>BR</td>\n",
       "      <td>N</td>\n",
       "      <td>N</td>\n",
       "      <td>N</td>\n",
       "    </tr>\n",
       "    <tr>\n",
       "      <th>3</th>\n",
       "      <td>BOAT</td>\n",
       "      <td>999747</td>\n",
       "      <td>BOT</td>\n",
       "      <td>CORTLAND</td>\n",
       "      <td>NY</td>\n",
       "      <td>13045</td>\n",
       "      <td>CORTLAND</td>\n",
       "      <td>1971.0</td>\n",
       "      <td>STARC</td>\n",
       "      <td>BOAT</td>\n",
       "      <td>GAS</td>\n",
       "      <td>NaN</td>\n",
       "      <td>NaN</td>\n",
       "      <td>NaN</td>\n",
       "      <td>03/08/2023</td>\n",
       "      <td>04/30/2026</td>\n",
       "      <td>NaN</td>\n",
       "      <td>N</td>\n",
       "      <td>N</td>\n",
       "      <td>N</td>\n",
       "    </tr>\n",
       "    <tr>\n",
       "      <th>4</th>\n",
       "      <td>BOAT</td>\n",
       "      <td>999733</td>\n",
       "      <td>BOT</td>\n",
       "      <td>CANEADEA</td>\n",
       "      <td>NY</td>\n",
       "      <td>14717</td>\n",
       "      <td>ALLEGANY</td>\n",
       "      <td>1971.0</td>\n",
       "      <td>STARC</td>\n",
       "      <td>BOAT</td>\n",
       "      <td>GAS</td>\n",
       "      <td>NaN</td>\n",
       "      <td>NaN</td>\n",
       "      <td>NaN</td>\n",
       "      <td>07/25/2024</td>\n",
       "      <td>06/30/2027</td>\n",
       "      <td>NaN</td>\n",
       "      <td>N</td>\n",
       "      <td>N</td>\n",
       "      <td>N</td>\n",
       "    </tr>\n",
       "  </tbody>\n",
       "</table>\n",
       "</div>"
      ],
      "text/plain": [
       "  Record Type           VIN Registration Class         City State    Zip  \\\n",
       "0        BOAT  999999999999                BOT       HILTON    NY  14468   \n",
       "1         VEH       9999236                HIS       ROSLYN    NY  11576   \n",
       "2         TRL          9999                LTR  BETHEL PARK    PA  15102   \n",
       "3        BOAT        999747                BOT     CORTLAND    NY  13045   \n",
       "4        BOAT        999733                BOT     CANEADEA    NY  14717   \n",
       "\n",
       "         County  Model Year   Make Body Type Fuel Type  Unladen Weight  \\\n",
       "0        MONROE      1975.0  STARC      BOAT       GAS             NaN   \n",
       "1        NASSAU      1937.0   CHRY      4DSD       GAS          6300.0   \n",
       "2  OUT-OF-STATE      1980.0   CRCF      LTRL      NONE             NaN   \n",
       "3      CORTLAND      1971.0  STARC      BOAT       GAS             NaN   \n",
       "4      ALLEGANY      1971.0  STARC      BOAT       GAS             NaN   \n",
       "\n",
       "   Maximum Gross Weight  Passengers Reg Valid Date Reg Expiration Date Color  \\\n",
       "0                   NaN         NaN     08/24/2022          07/31/2025   NaN   \n",
       "1                   NaN         NaN     05/07/2024          06/23/2025    BK   \n",
       "2                3000.0         NaN     11/15/2023          12/31/2024    BR   \n",
       "3                   NaN         NaN     03/08/2023          04/30/2026   NaN   \n",
       "4                   NaN         NaN     07/25/2024          06/30/2027   NaN   \n",
       "\n",
       "  Scofflaw Indicator Suspension Indicator Revocation Indicator  \n",
       "0                  N                    N                    N  \n",
       "1                  N                    N                    N  \n",
       "2                  N                    N                    N  \n",
       "3                  N                    N                    N  \n",
       "4                  N                    N                    N  "
      ]
     },
     "execution_count": 5,
     "metadata": {},
     "output_type": "execute_result"
    }
   ],
   "source": [
    "#Here I am checking for the formatting for the columns just to ensure I'm writing the next line peroperly.\n",
    "nyc_cars.head()"
   ]
  },
  {
   "cell_type": "code",
   "execution_count": 6,
   "id": "e188f0af-d5ca-4747-b43c-05831238d06d",
   "metadata": {},
   "outputs": [],
   "source": [
    "#This line is the first filtering the New York State Vehicle Registration data.\n",
    "nyc_evs = nyc_cars[\n",
    "    #This line filtered out other vehicle types like boats and snow mobiles.\n",
    "    (nyc_cars['Record Type'] == 'VEH') &\n",
    "    #This filtered the vehicles down to passenger vehicles, vutting out things like semis, box trucks, etc.\n",
    "    (nyc_cars['Registration Class'] == 'PAS') &\n",
    "    #This line filtered the entries by county of vehicle use to to NYC. \n",
    "    (nyc_cars['County'].isin(['NEW YORK', 'KINGS', 'QUEENS', 'BRONX', 'RICHMOND'])) &\n",
    "    #This line filtered the registrations by battery eletric.\n",
    "    (nyc_cars['Fuel Type'] == 'ELECTRIC')\n",
    "]"
   ]
  },
  {
   "cell_type": "code",
   "execution_count": 7,
   "id": "0a4e848d-e0f5-41ec-b650-970a1b57c657",
   "metadata": {},
   "outputs": [
    {
     "data": {
      "text/plain": [
       "24664"
      ]
     },
     "execution_count": 7,
     "metadata": {},
     "output_type": "execute_result"
    }
   ],
   "source": [
    "#This was checking the filtering.\n",
    "len(nyc_evs)"
   ]
  },
  {
   "cell_type": "code",
   "execution_count": 8,
   "id": "7e881299-f48f-4c50-af50-0f6cf241c040",
   "metadata": {},
   "outputs": [],
   "source": [
    "#Here I was creating a total number of EVs to be used later for figuring out cars per plug.\n",
    "total_nyc_evs = len(nyc_evs)"
   ]
  },
  {
   "cell_type": "code",
   "execution_count": 9,
   "id": "134be0cf-33ec-4db3-b158-e98f50fab75c",
   "metadata": {},
   "outputs": [
    {
     "data": {
      "text/plain": [
       "array(['Level 3 Fast Charger', 'Level 2 Charger', 'EV Solar Arc Charger',\n",
       "       'Level 3 Fast Charger - Boost', 'EV Solar Canopy Charger',\n",
       "       'L2 DOT Flo Curbside Charger', 'DOT Municipal Level 2 Charger',\n",
       "       'DOT Municipal Level 3 Charger', 'Mobile Charger'], dtype=object)"
      ]
     },
     "execution_count": 9,
     "metadata": {},
     "output_type": "execute_result"
    }
   ],
   "source": [
    "#Here I wanted to confirm the charger name\n",
    "nyc_chargers['TYPE OF CHARGER'].unique()"
   ]
  },
  {
   "cell_type": "code",
   "execution_count": 10,
   "id": "ed1669c7-bed0-4c2b-b4a2-dd30ea614c98",
   "metadata": {},
   "outputs": [],
   "source": [
    "#Here I filtered the chargers down to the ones avaliable to the public.\n",
    "nyc_public_chargers = nyc_chargers[(nyc_chargers['TYPE OF CHARGER'] == 'L2 DOT Flo Curbside Charger')]"
   ]
  },
  {
   "cell_type": "code",
   "execution_count": 11,
   "id": "3d56c766-0572-40ad-9c4b-b56efd5dafb7",
   "metadata": {},
   "outputs": [],
   "source": [
    "#Here I created a total of chargers by filtering the data set down to those only avaliable to the public.\n",
    "nyc_public_chargers_total_plugs = nyc_public_chargers['NO. OF PLUGS'].sum()"
   ]
  },
  {
   "cell_type": "code",
   "execution_count": 12,
   "id": "ce8189ce-6879-4dc4-8a9c-767d6acf9d19",
   "metadata": {},
   "outputs": [],
   "source": [
    "#This step had me filtering down the Massachusetts Motor Vehicle Census to determine how many EVs were on roads as of 7/1/24\n",
    "boston_evs = boston_cars[\n",
    "    #This condition filtered the data down to the most recent check.\n",
    "    (boston_cars['Date'] == '2024-07-01') &\n",
    "    #This condition filtered the location down to Boston specifically.\n",
    "    (boston_cars['Municipality'] == 'BOSTON') &\n",
    "    #This condition limited the type of vehicle down to passenger cars.\n",
    "    (boston_cars['VehicleUse'] == 'Passenger') &\n",
    "    #This condition set the type to electric vehicle.\n",
    "    (boston_cars['AdvancedVehicleType'] == 'Electric Vehicle')\n",
    "]"
   ]
  },
  {
   "cell_type": "code",
   "execution_count": 13,
   "id": "d60d8443-51d1-4042-8472-f68ff99d4d67",
   "metadata": {},
   "outputs": [],
   "source": [
    "#Because the MVC works differently than the NYC registration data, I had to sum the vehicle counts from that to be able to get the number of EVs registered in the region.\n",
    "total_boston_evs = boston_evs['Count'].sum()"
   ]
  },
  {
   "cell_type": "code",
   "execution_count": 14,
   "id": "0803591f-cddc-420c-92f8-b29de93e0378",
   "metadata": {},
   "outputs": [],
   "source": [
    "#Here I filtered down the chargers in Boston from the dataset to fit the same requirements as the NYC data set.\n",
    "boston_public_chargers = boston_chargers[\n",
    "    #This condition had me filtering down to the chargers provided by the state, local and federal government in the area.\n",
    "    (boston_chargers['owner_type_code'].isin(['LG', 'SG', 'FG'])) &\n",
    "    #This condition limited the area to Boston.\n",
    "    (boston_chargers['city'] == 'Boston')\n",
    "].copy()"
   ]
  },
  {
   "cell_type": "code",
   "execution_count": 15,
   "id": "814b54ae-c959-4496-aab3-c84913d0e888",
   "metadata": {},
   "outputs": [],
   "source": [
    "#This is establishing the number of vehicles to chargers for NYC by dividing the cars by the chargers.\n",
    "nyc_vehicles_per_charger = total_nyc_evs / nyc_public_chargers_total_plugs"
   ]
  },
  {
   "cell_type": "code",
   "execution_count": 16,
   "id": "d4ebfa6d-f506-41f8-9087-424df7d70e3f",
   "metadata": {},
   "outputs": [
    {
     "name": "stdout",
     "output_type": "stream",
     "text": [
      "209.01694915254237\n"
     ]
    }
   ],
   "source": [
    "#print(boston_vehicles_per_charger)\n",
    "print(nyc_vehicles_per_charger)"
   ]
  },
  {
   "cell_type": "code",
   "execution_count": 17,
   "id": "2fb6ee8e-cd6e-4eaf-b74c-e47ea943ebd7",
   "metadata": {},
   "outputs": [],
   "source": [
    "#This is establishing the number of vehicles to chargers for Boston by dividing the cars by the chargers.\n",
    "#(I had to just hand count them, something broke in the code when I tried to sum them that way and I wanted to make deadline!)\n",
    "boston_vehicles_per_charger = total_boston_evs / 20"
   ]
  },
  {
   "cell_type": "code",
   "execution_count": 18,
   "id": "cb3b9001-03ed-4f12-b0a1-167a2961ccc6",
   "metadata": {},
   "outputs": [
    {
     "name": "stdout",
     "output_type": "stream",
     "text": [
      "360.9\n"
     ]
    }
   ],
   "source": [
    "#This is showing off the ratio for Boston.\n",
    "print(boston_vehicles_per_charger)"
   ]
  },
  {
   "cell_type": "code",
   "execution_count": 19,
   "id": "dbf5a03b-8ec2-49e2-ba6d-93b8820df45d",
   "metadata": {},
   "outputs": [
    {
     "name": "stdout",
     "output_type": "stream",
     "text": [
      "7218\n"
     ]
    }
   ],
   "source": [
    "print(total_boston_evs)"
   ]
  },
  {
   "cell_type": "code",
   "execution_count": null,
   "id": "29be25bd-0eda-41c1-8fe0-20bde7c20463",
   "metadata": {},
   "outputs": [],
   "source": []
  }
 ],
 "metadata": {
  "kernelspec": {
   "display_name": "Python 3 (ipykernel)",
   "language": "python",
   "name": "python3"
  },
  "language_info": {
   "codemirror_mode": {
    "name": "ipython",
    "version": 3
   },
   "file_extension": ".py",
   "mimetype": "text/x-python",
   "name": "python",
   "nbconvert_exporter": "python",
   "pygments_lexer": "ipython3",
   "version": "3.8.18"
  }
 },
 "nbformat": 4,
 "nbformat_minor": 5
}
